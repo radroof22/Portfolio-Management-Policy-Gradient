{
 "cells": [
  {
   "cell_type": "code",
   "execution_count": 1,
   "metadata": {},
   "outputs": [],
   "source": [
    "%config IPCompleter.greedy=True\n",
    "\"\"\"Restructure Data\"\"\"\n",
    "# Parameters\n",
    "import pandas as pd\n",
    "import os\n",
    "import pickle\n",
    "from tqdm import tqdm\n",
    "\n",
    "input_path = \"Data/Stocks/\"\n",
    "output_path = \"Dataframes/Stocks/\"\n",
    "dropped_columns = [\"Date\", \"OpenInt\"]\n",
    "stock_files = os.listdir(input_path)"
   ]
  },
  {
   "cell_type": "code",
   "execution_count": 2,
   "metadata": {},
   "outputs": [
    {
     "name": "stdout",
     "output_type": "stream",
     "text": [
      "            Date   Open   High     Low  Close   Volume  OpenInt\n",
      "4516  2017-11-06  68.22  68.45  68.220  68.22   995731        0\n",
      "4517  2017-11-07  68.32  68.64  68.040  68.25   966466        0\n",
      "4518  2017-11-08  68.10  68.33  67.771  68.11   972616        0\n",
      "4519  2017-11-09  67.92  67.98  66.910  67.47  1673083        0\n",
      "4520  2017-11-10  67.35  67.58  66.700  66.81  1704549        0\n",
      "Columns: Index(['Open', 'High', 'Low', 'Close', 'Volume'], dtype='object') \t Rows: 4521\n"
     ]
    }
   ],
   "source": [
    "# Load Columns for usage later\n",
    "index_df = pd.read_csv(input_path+stock_files[0])\n",
    "print(index_df.tail())\n",
    "days = len(index_df)\n",
    "columns = index_df.drop(dropped_columns, axis=1).columns\n",
    "print(\"Columns: {} \\t Rows: {}\".format(columns, days))"
   ]
  },
  {
   "cell_type": "code",
   "execution_count": null,
   "metadata": {},
   "outputs": [
    {
     "name": "stderr",
     "output_type": "stream",
     "text": [
      "\n",
      "  0%|                                                                                         | 0/4521 [00:00<?, ?it/s]\n",
      "  0%|                                                                              | 1/4521 [00:38<48:29:57, 38.63s/it]\n",
      "  0%|                                                                              | 2/4521 [01:16<48:02:40, 38.27s/it]"
     ]
    },
    {
     "name": "stdout",
     "output_type": "stream",
     "text": [
      "Removed `Data/Stocks/ozm.us.txt`: Empty File \n"
     ]
    },
    {
     "name": "stderr",
     "output_type": "stream",
     "text": [
      "\n",
      "  0%|                                                                              | 3/4521 [01:54<48:00:44, 38.26s/it]\n",
      "  0%|                                                                              | 4/4521 [02:33<48:05:55, 38.33s/it]\n",
      "  0%|                                                                              | 5/4521 [03:12<48:18:13, 38.51s/it]\n",
      "  0%|                                                                              | 6/4521 [03:50<48:15:48, 38.48s/it]\n",
      "  0%|                                                                              | 7/4521 [04:28<48:09:49, 38.41s/it]\n",
      "  0%|▏                                                                             | 8/4521 [05:06<48:04:34, 38.35s/it]\n",
      "  0%|▏                                                                             | 9/4521 [05:45<48:06:15, 38.38s/it]\n",
      "  0%|▏                                                                            | 10/4521 [06:24<48:07:14, 38.40s/it]\n",
      "  0%|▏                                                                            | 11/4521 [07:02<48:08:19, 38.43s/it]\n",
      "  0%|▏                                                                            | 12/4521 [07:40<48:06:45, 38.41s/it]\n",
      "  0%|▏                                                                            | 13/4521 [08:19<48:08:12, 38.44s/it]\n",
      "  0%|▏                                                                            | 14/4521 [08:58<48:08:34, 38.45s/it]\n",
      "  0%|▎                                                                            | 15/4521 [09:37<48:09:49, 38.48s/it]\n",
      "  0%|▎                                                                            | 16/4521 [10:15<48:09:35, 38.49s/it]\n",
      "  0%|▎                                                                            | 17/4521 [10:55<48:15:34, 38.57s/it]\n",
      "  0%|▎                                                                            | 18/4521 [11:33<48:12:36, 38.54s/it]\n",
      "  0%|▎                                                                            | 19/4521 [12:12<48:11:29, 38.54s/it]\n",
      "  0%|▎                                                                            | 20/4521 [12:53<48:21:39, 38.68s/it]\n",
      "  0%|▎                                                                            | 21/4521 [13:31<48:19:48, 38.66s/it]\n",
      "  0%|▎                                                                            | 22/4521 [14:10<48:19:03, 38.66s/it]\n",
      "  1%|▍                                                                            | 23/4521 [14:50<48:23:50, 38.74s/it]\n",
      "  1%|▍                                                                            | 24/4521 [15:29<48:24:09, 38.75s/it]"
     ]
    }
   ],
   "source": [
    "for day in tqdm(range(days)):\n",
    "    df_day = {}\n",
    "    for file in stock_files:\n",
    "        try:\n",
    "            df_day[file.split(\".\")[0]] = pd.read_csv(input_path+file).drop(dropped_columns, axis=1)\n",
    "        except:\n",
    "            try:\n",
    "                os.remove(input_path+file)\n",
    "                print(\"Removed `{}`: Empty File \".format(input_path+file))\n",
    "            except:\n",
    "                pass\n",
    "    with open(output_path+ \"Day_{}.pickle\".format(day), \"wb\") as file:\n",
    "        pickle.dump(df_day, file)"
   ]
  },
  {
   "cell_type": "code",
   "execution_count": null,
   "metadata": {},
   "outputs": [],
   "source": []
  }
 ],
 "metadata": {
  "kernelspec": {
   "display_name": "Python 3",
   "language": "python",
   "name": "python3"
  },
  "language_info": {
   "codemirror_mode": {
    "name": "ipython",
    "version": 3
   },
   "file_extension": ".py",
   "mimetype": "text/x-python",
   "name": "python",
   "nbconvert_exporter": "python",
   "pygments_lexer": "ipython3",
   "version": "3.5.2"
  }
 },
 "nbformat": 4,
 "nbformat_minor": 2
}
